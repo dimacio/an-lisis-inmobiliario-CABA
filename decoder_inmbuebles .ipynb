{
 "cells": [
  {
   "cell_type": "code",
   "execution_count": 1,
   "metadata": {},
   "outputs": [],
   "source": [
    "import json \n",
    "import pandas as pd \n",
    "import numpy as np\n",
    "with open('response1.json') as f:\n",
    "    d = json.load(f)"
   ]
  },
  {
   "cell_type": "code",
   "execution_count": 2,
   "metadata": {},
   "outputs": [
    {
     "data": {
      "text/plain": [
       "[{'id': 'ITEM_CONDITION',\n",
       "  'value_id': '2230581',\n",
       "  'value_name': 'Usado',\n",
       "  'attribute_group_id': '',\n",
       "  'source': 1,\n",
       "  'name': 'Condición del ítem',\n",
       "  'value_struct': None,\n",
       "  'values': [{'id': '2230581', 'name': 'Usado', 'struct': None, 'source': 1}],\n",
       "  'attribute_group_name': ''},\n",
       " {'id': 'HAS_TELEPHONE_LINE',\n",
       "  'name': 'Línea telefónica',\n",
       "  'attribute_group_id': 'CARACTERISTICAS',\n",
       "  'values': [{'id': '242084',\n",
       "    'name': 'No',\n",
       "    'struct': None,\n",
       "    'source': 4709975701260268}],\n",
       "  'attribute_group_name': 'Características adicionales',\n",
       "  'source': 4709975701260268,\n",
       "  'value_id': '242084',\n",
       "  'value_name': 'No',\n",
       "  'value_struct': None},\n",
       " {'value_name': 'No',\n",
       "  'value_struct': None,\n",
       "  'attribute_group_id': 'COMOYAMEN',\n",
       "  'attribute_group_name': 'Comodidades y amenities',\n",
       "  'source': 4709975701260268,\n",
       "  'id': 'HAS_AIR_CONDITIONING',\n",
       "  'name': 'Aire acondicionado',\n",
       "  'value_id': '242084',\n",
       "  'values': [{'name': 'No',\n",
       "    'struct': None,\n",
       "    'source': 4709975701260268,\n",
       "    'id': '242084'}]},\n",
       " {'values': [{'source': 4709975701260268,\n",
       "    'id': None,\n",
       "    'name': '1',\n",
       "    'struct': None}],\n",
       "  'id': 'BEDROOMS',\n",
       "  'name': 'Dormitorios',\n",
       "  'value_struct': None,\n",
       "  'attribute_group_name': 'Ficha técnica',\n",
       "  'source': 4709975701260268,\n",
       "  'value_id': None,\n",
       "  'value_name': '1',\n",
       "  'attribute_group_id': 'FIND'},\n",
       " {'value_id': None,\n",
       "  'value_name': '39 m²',\n",
       "  'value_struct': {'number': 39, 'unit': 'm²'},\n",
       "  'id': 'COVERED_AREA',\n",
       "  'name': 'Superficie cubierta',\n",
       "  'values': [{'id': None,\n",
       "    'name': '39 m²',\n",
       "    'struct': {'number': 39, 'unit': 'm²'},\n",
       "    'source': 4709975701260268}],\n",
       "  'attribute_group_id': 'FIND',\n",
       "  'attribute_group_name': 'Ficha técnica',\n",
       "  'source': 4709975701260268},\n",
       " {'value_struct': None,\n",
       "  'source': 4709975701260268,\n",
       "  'id': 'FULL_BATHROOMS',\n",
       "  'name': 'Baños',\n",
       "  'values': [{'id': None,\n",
       "    'name': '1',\n",
       "    'struct': None,\n",
       "    'source': 4709975701260268}],\n",
       "  'attribute_group_id': 'FIND',\n",
       "  'attribute_group_name': 'Ficha técnica',\n",
       "  'value_id': None,\n",
       "  'value_name': '1'},\n",
       " {'id': 'ROOMS',\n",
       "  'name': 'Ambientes',\n",
       "  'value_id': None,\n",
       "  'value_name': '2',\n",
       "  'value_struct': None,\n",
       "  'values': [{'source': 4709975701260268,\n",
       "    'id': None,\n",
       "    'name': '2',\n",
       "    'struct': None}],\n",
       "  'attribute_group_id': 'FIND',\n",
       "  'attribute_group_name': 'Ficha técnica',\n",
       "  'source': 4709975701260268},\n",
       " {'id': 'TOTAL_AREA',\n",
       "  'value_name': '42 m²',\n",
       "  'value_struct': {'unit': 'm²', 'number': 42},\n",
       "  'values': [{'id': None,\n",
       "    'name': '42 m²',\n",
       "    'struct': {'number': 42, 'unit': 'm²'},\n",
       "    'source': 4709975701260268}],\n",
       "  'name': 'Superficie total',\n",
       "  'value_id': None,\n",
       "  'attribute_group_id': 'FIND',\n",
       "  'attribute_group_name': 'Ficha técnica',\n",
       "  'source': 4709975701260268},\n",
       " {'id': 'OPERATION',\n",
       "  'name': 'Operación',\n",
       "  'attribute_group_id': 'MAIN',\n",
       "  'source': 1,\n",
       "  'attribute_group_name': 'Principales',\n",
       "  'value_id': '242073',\n",
       "  'value_name': 'Alquiler',\n",
       "  'value_struct': None,\n",
       "  'values': [{'source': 1,\n",
       "    'id': '242073',\n",
       "    'name': 'Alquiler',\n",
       "    'struct': None}]},\n",
       " {'id': 'PROPERTY_TYPE',\n",
       "  'name': 'Inmueble',\n",
       "  'value_name': 'Departamento',\n",
       "  'values': [{'struct': None,\n",
       "    'source': 1,\n",
       "    'id': '242062',\n",
       "    'name': 'Departamento'}],\n",
       "  'value_id': '242062',\n",
       "  'value_struct': None,\n",
       "  'attribute_group_id': 'MAIN',\n",
       "  'attribute_group_name': 'Principales',\n",
       "  'source': 1}]"
      ]
     },
     "execution_count": 2,
     "metadata": {},
     "output_type": "execute_result"
    }
   ],
   "source": [
    "d[\"results\"][0][\"attributes\"] \n",
    "#ahora veo una lista de atributos, cada uno de ellos es un diccionario con las mismas \"keys\" "
   ]
  },
  {
   "cell_type": "code",
   "execution_count": 3,
   "metadata": {},
   "outputs": [],
   "source": [
    "#puedo iterar sobre la lista de atributos porque comparten las keys para hacer un nuevo diccionario\n",
    "dict_global = {}\n",
    "for j in range(len(d[\"results\"])):\n",
    "     dict_attr = {}\n",
    "     for i in range(len(d[\"results\"][j][\"attributes\"])): #numero de atributos por ítem, no siempre es 10\n",
    "          dict_attr [d[\"results\"][j][\"attributes\"][i][\"name\"]] = d[\"results\"][j][\"attributes\"][i][\"value_name\"] \n",
    "     dict_global[d[\"results\"][j][\"id\"]] = dict_attr"
   ]
  },
  {
   "cell_type": "code",
   "execution_count": 4,
   "metadata": {},
   "outputs": [],
   "source": [
    "df_attr = pd.DataFrame.from_dict(dict_global)"
   ]
  },
  {
   "cell_type": "code",
   "execution_count": 5,
   "metadata": {},
   "outputs": [],
   "source": [
    "df_att=df_attr.T.drop(['Tour virtual'], axis=1)"
   ]
  },
  {
   "cell_type": "markdown",
   "metadata": {},
   "source": [
    "Los rasgos básicos de la base de datos son los que vienen desde el objeto de atributos del JSON\n",
    "\n",
    "| Nombre | Tipo de variable |\n",
    "| --- | --- |\n",
    "| Condición del ítem | Binaria |\n",
    "| Línea telefónica | Binaria |\n",
    "| Dormitorios | Binaria |\n",
    "| Superfice cubierta | Entero? m2|\n",
    "| Baños | Entero |\n",
    "| Ambientes | Entero | \n",
    "| Superficie total | Entero? m2| \n",
    "| Operación | Binario |\n",
    "| Inmueble | Binario |"
   ]
  },
  {
   "cell_type": "markdown",
   "metadata": {},
   "source": [
    "Deberia poder sacar las unidades de las columnas de area \"\"\".str.replace\"\"\""
   ]
  },
  {
   "cell_type": "code",
   "execution_count": 6,
   "metadata": {},
   "outputs": [],
   "source": [
    "df_att[[\"Superficie cubierta\",\"Superficie total\"]] = df_att[[\"Superficie cubierta\",\"Superficie total\"]].replace({'m²':''}, regex=True)"
   ]
  },
  {
   "cell_type": "markdown",
   "metadata": {},
   "source": [
    "Extraigo otros valores que me pueden interesar"
   ]
  },
  {
   "cell_type": "code",
   "execution_count": 7,
   "metadata": {},
   "outputs": [],
   "source": [
    "dict_select = {}\n",
    "dict_global2 = {}"
   ]
  },
  {
   "cell_type": "code",
   "execution_count": 8,
   "metadata": {},
   "outputs": [],
   "source": [
    "for i in range (len(d[\"results\"])):\n",
    "    dict_select = {}\n",
    "    dict_select[\"price\"] = d[\"results\"][i][\"price\"]\n",
    "    dict_select[\"currency_id\"] = d[\"results\"][i][\"currency_id\"]\n",
    "    dict_select[\"stop_time\"] = d[\"results\"][i][\"stop_time\"]\n",
    "    dict_select[\"official_store_id\"] = d[\"results\"][i][\"official_store_id\"]\n",
    "    dict_select[\"seller.id\"] = d[\"results\"][i][\"seller\"][\"id\"]\n",
    "    dict_select[\"location.longitude\"] = d[\"results\"][i][\"location\"][\"longitude\"]\n",
    "    dict_select[\"location.latitude\"] = d[\"results\"][i][\"location\"][\"latitude\"]\n",
    "    dict_select[\"location.address_line\"] = d[\"results\"][i][\"location\"][\"address_line\"]\n",
    "    dict_select[\"location.country.id\"] = d[\"results\"][i][\"location\"][\"country\"][\"id\"]\n",
    "    dict_select[\"prices_last_updated\"] = d[\"results\"][i][\"prices\"][\"prices\"][0][\"last_updated\"]\n",
    "    dict_global2[d[\"results\"][i][\"id\"]] = dict_select"
   ]
  },
  {
   "cell_type": "code",
   "execution_count": 9,
   "metadata": {},
   "outputs": [],
   "source": [
    "df_select = pd.DataFrame.from_dict(dict_global2)"
   ]
  },
  {
   "cell_type": "code",
   "execution_count": 10,
   "metadata": {},
   "outputs": [
    {
     "data": {
      "text/html": [
       "<div>\n",
       "<style scoped>\n",
       "    .dataframe tbody tr th:only-of-type {\n",
       "        vertical-align: middle;\n",
       "    }\n",
       "\n",
       "    .dataframe tbody tr th {\n",
       "        vertical-align: top;\n",
       "    }\n",
       "\n",
       "    .dataframe thead th {\n",
       "        text-align: right;\n",
       "    }\n",
       "</style>\n",
       "<table border=\"1\" class=\"dataframe\">\n",
       "  <thead>\n",
       "    <tr style=\"text-align: right;\">\n",
       "      <th></th>\n",
       "      <th>price</th>\n",
       "      <th>currency_id</th>\n",
       "      <th>stop_time</th>\n",
       "      <th>official_store_id</th>\n",
       "      <th>seller.id</th>\n",
       "      <th>location.longitude</th>\n",
       "      <th>location.latitude</th>\n",
       "      <th>location.address_line</th>\n",
       "      <th>location.country.id</th>\n",
       "      <th>prices_last_updated</th>\n",
       "    </tr>\n",
       "  </thead>\n",
       "  <tbody>\n",
       "    <tr>\n",
       "      <th>MLA1130578098</th>\n",
       "      <td>43500</td>\n",
       "      <td>ARS</td>\n",
       "      <td>2022-06-03T04:00:00.000Z</td>\n",
       "      <td>2695</td>\n",
       "      <td>155651025</td>\n",
       "      <td>-58.457867</td>\n",
       "      <td>-34.61696</td>\n",
       "      <td>Donato Alvarez al 700</td>\n",
       "      <td>AR</td>\n",
       "      <td>2022-04-04T18:23:46Z</td>\n",
       "    </tr>\n",
       "    <tr>\n",
       "      <th>MLA1130495400</th>\n",
       "      <td>60000</td>\n",
       "      <td>ARS</td>\n",
       "      <td>2022-06-02T15:59:33.000Z</td>\n",
       "      <td>None</td>\n",
       "      <td>173700530</td>\n",
       "      <td>-58.461285</td>\n",
       "      <td>-34.54327</td>\n",
       "      <td>Av. del Libertador &amp; Manzanares, Buenos Aires,...</td>\n",
       "      <td>AR</td>\n",
       "      <td>2022-04-03T02:49:46Z</td>\n",
       "    </tr>\n",
       "    <tr>\n",
       "      <th>MLA1130906965</th>\n",
       "      <td>35000</td>\n",
       "      <td>ARS</td>\n",
       "      <td>2022-06-05T04:00:00.000Z</td>\n",
       "      <td>None</td>\n",
       "      <td>132756485</td>\n",
       "      <td>-60.629326</td>\n",
       "      <td>-32.957275</td>\n",
       "      <td>Zeballos al 300</td>\n",
       "      <td>AR</td>\n",
       "      <td>2022-04-06T11:22:45Z</td>\n",
       "    </tr>\n",
       "    <tr>\n",
       "      <th>MLA1130879219</th>\n",
       "      <td>45000</td>\n",
       "      <td>ARS</td>\n",
       "      <td>2022-06-04T04:03:59.000Z</td>\n",
       "      <td>None</td>\n",
       "      <td>16987222</td>\n",
       "      <td>-58.44402</td>\n",
       "      <td>-34.61069</td>\n",
       "      <td>Colpayo 848, AWN, Buenos Aires, Argentina</td>\n",
       "      <td>AR</td>\n",
       "      <td>2022-04-05T21:41:50Z</td>\n",
       "    </tr>\n",
       "    <tr>\n",
       "      <th>MLA1130467824</th>\n",
       "      <td>80000</td>\n",
       "      <td>ARS</td>\n",
       "      <td>2022-06-02T04:04:48.000Z</td>\n",
       "      <td>None</td>\n",
       "      <td>716888392</td>\n",
       "      <td>-58.499332</td>\n",
       "      <td>-34.581936</td>\n",
       "      <td>Griveo 2506, Buenos Aires, Argentina</td>\n",
       "      <td>AR</td>\n",
       "      <td>2022-04-03T04:50:34Z</td>\n",
       "    </tr>\n",
       "  </tbody>\n",
       "</table>\n",
       "</div>"
      ],
      "text/plain": [
       "               price currency_id                 stop_time official_store_id  \\\n",
       "MLA1130578098  43500         ARS  2022-06-03T04:00:00.000Z              2695   \n",
       "MLA1130495400  60000         ARS  2022-06-02T15:59:33.000Z              None   \n",
       "MLA1130906965  35000         ARS  2022-06-05T04:00:00.000Z              None   \n",
       "MLA1130879219  45000         ARS  2022-06-04T04:03:59.000Z              None   \n",
       "MLA1130467824  80000         ARS  2022-06-02T04:04:48.000Z              None   \n",
       "\n",
       "               seller.id location.longitude location.latitude  \\\n",
       "MLA1130578098  155651025         -58.457867         -34.61696   \n",
       "MLA1130495400  173700530         -58.461285         -34.54327   \n",
       "MLA1130906965  132756485         -60.629326        -32.957275   \n",
       "MLA1130879219   16987222          -58.44402         -34.61069   \n",
       "MLA1130467824  716888392         -58.499332        -34.581936   \n",
       "\n",
       "                                           location.address_line  \\\n",
       "MLA1130578098                              Donato Alvarez al 700   \n",
       "MLA1130495400  Av. del Libertador & Manzanares, Buenos Aires,...   \n",
       "MLA1130906965                                    Zeballos al 300   \n",
       "MLA1130879219          Colpayo 848, AWN, Buenos Aires, Argentina   \n",
       "MLA1130467824               Griveo 2506, Buenos Aires, Argentina   \n",
       "\n",
       "              location.country.id   prices_last_updated  \n",
       "MLA1130578098                  AR  2022-04-04T18:23:46Z  \n",
       "MLA1130495400                  AR  2022-04-03T02:49:46Z  \n",
       "MLA1130906965                  AR  2022-04-06T11:22:45Z  \n",
       "MLA1130879219                  AR  2022-04-05T21:41:50Z  \n",
       "MLA1130467824                  AR  2022-04-03T04:50:34Z  "
      ]
     },
     "execution_count": 10,
     "metadata": {},
     "output_type": "execute_result"
    }
   ],
   "source": [
    "df_select.T.head()"
   ]
  },
  {
   "cell_type": "markdown",
   "metadata": {},
   "source": [
    "df_select_ars= df_select.T[df_select.T.currency_id == \"ARS\"]"
   ]
  },
  {
   "cell_type": "markdown",
   "metadata": {},
   "source": [
    "Había 8 en dolares solamente. Podria tomarme la molestia de seleccionar solo los deptos que esten en dolares, en vez de ajustar el precio dependiendo de la fecha. Podria haces Lotes bimestrales con los precios promedio del dolar "
   ]
  },
  {
   "cell_type": "code",
   "execution_count": 11,
   "metadata": {},
   "outputs": [],
   "source": [
    "df_features = df_select.T[[\"location.longitude\",\"location.latitude\",\"price\"]].join(df_att)  "
   ]
  },
  {
   "cell_type": "markdown",
   "metadata": {},
   "source": [
    "Corrijo los tipos de cada variable"
   ]
  },
  {
   "cell_type": "code",
   "execution_count": 19,
   "metadata": {},
   "outputs": [
    {
     "data": {
      "text/plain": [
       "location.longitude     float64\n",
       "location.latitude      float64\n",
       "price                    int64\n",
       "Condición del ítem      object\n",
       "Línea telefónica        object\n",
       "Aire acondicionado      object\n",
       "Dormitorios              int32\n",
       "Superficie cubierta      int32\n",
       "Baños                    int32\n",
       "Ambientes                int32\n",
       "Superficie total         int32\n",
       "Operación               object\n",
       "Inmueble                object\n",
       "dtype: object"
      ]
     },
     "execution_count": 19,
     "metadata": {},
     "output_type": "execute_result"
    }
   ],
   "source": [
    "df_features = df_features.astype({'price' : \"int64\", 'location.longitude': 'float' , \"location.latitude\" : \"float\" , \"Dormitorios\" : \"int32\" , \"Superficie cubierta\" : \"int32\", \"Baños\" : \"int32\" , \"Ambientes\" : \"int32\" , \"Superficie total\" : \"int32\" })\n",
    "df_features.dtypes"
   ]
  },
  {
   "cell_type": "code",
   "execution_count": 21,
   "metadata": {},
   "outputs": [
    {
     "data": {
      "text/plain": [
       "-34.61696"
      ]
     },
     "execution_count": 21,
     "metadata": {},
     "output_type": "execute_result"
    }
   ],
   "source": [
    "df_features[[\"location.latitude\"][i]"
   ]
  },
  {
   "cell_type": "code",
   "execution_count": 16,
   "metadata": {},
   "outputs": [],
   "source": [
    "import folium as fl"
   ]
  },
  {
   "cell_type": "code",
   "execution_count": 18,
   "metadata": {},
   "outputs": [],
   "source": [
    "fg = fl.FeatureGroup(name=\"My Map\")\n"
   ]
  },
  {
   "cell_type": "markdown",
   "metadata": {},
   "source": [
    "Se podria hacer un intento naive, solo usar el metro cuadrado con OLS. Despues sumar la localización y pasar a MLS. \n",
    "Se podra usar una sola medida espacial? distancia de una arteria urbana? Los precios podrian indicar una estructura oculta en la geografia de la ciudad?"
   ]
  },
  {
   "cell_type": "code",
   "execution_count": 24,
   "metadata": {},
   "outputs": [],
   "source": [
    "for i in range(len(df_features)):\n",
    "    fg.add_child(fl.Marker(location=[df_features[\"location.latitude\"][i],df_features[\"location.longitude\"][i]]))"
   ]
  },
  {
   "cell_type": "code",
   "execution_count": 27,
   "metadata": {},
   "outputs": [],
   "source": [
    "map = fl.Map(location=[-34.60165478206169, -58.38082359962473], zoom_start=6)"
   ]
  },
  {
   "cell_type": "code",
   "execution_count": null,
   "metadata": {},
   "outputs": [],
   "source": [
    "map.add_child(fg)"
   ]
  },
  {
   "cell_type": "code",
   "execution_count": 29,
   "metadata": {},
   "outputs": [],
   "source": [
    "map.save(\"propiedades.html\")"
   ]
  },
  {
   "cell_type": "markdown",
   "metadata": {},
   "source": [
    "Algunas propiedades quedan afuera de CABA. Tengo que agregar una caracteristica que me permita filtrar los resultados para que solo queden los de mi zona de trabajo"
   ]
  },
  {
   "cell_type": "markdown",
   "metadata": {},
   "source": []
  }
 ],
 "metadata": {
  "interpreter": {
   "hash": "fad3b377b6310d95a533eb230dbfd5a9c1b4325e73705c87886c434920585c43"
  },
  "kernelspec": {
   "display_name": "Python 3.7.11 ('base')",
   "language": "python",
   "name": "python3"
  },
  "language_info": {
   "codemirror_mode": {
    "name": "ipython",
    "version": 3
   },
   "file_extension": ".py",
   "mimetype": "text/x-python",
   "name": "python",
   "nbconvert_exporter": "python",
   "pygments_lexer": "ipython3",
   "version": "3.7.11"
  },
  "orig_nbformat": 4
 },
 "nbformat": 4,
 "nbformat_minor": 2
}
