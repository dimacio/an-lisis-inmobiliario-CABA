{
 "cells": [
  {
   "cell_type": "code",
   "execution_count": 34,
   "metadata": {},
   "outputs": [],
   "source": [
    "import pandas as pd\n",
    "import missingno as msno\n",
    "import seaborn as sns\n",
    "from scipy import stats\n",
    "df = pd.read_csv(\"tabla de propiedades.csv\") "
   ]
  },
  {
   "cell_type": "markdown",
   "metadata": {},
   "source": [
    "Reviso la tabla para ver si es lo que esperaba"
   ]
  },
  {
   "cell_type": "code",
   "execution_count": 35,
   "metadata": {},
   "outputs": [
    {
     "data": {
      "text/html": [
       "<div>\n",
       "<style scoped>\n",
       "    .dataframe tbody tr th:only-of-type {\n",
       "        vertical-align: middle;\n",
       "    }\n",
       "\n",
       "    .dataframe tbody tr th {\n",
       "        vertical-align: top;\n",
       "    }\n",
       "\n",
       "    .dataframe thead th {\n",
       "        text-align: right;\n",
       "    }\n",
       "</style>\n",
       "<table border=\"1\" class=\"dataframe\">\n",
       "  <thead>\n",
       "    <tr style=\"text-align: right;\">\n",
       "      <th></th>\n",
       "      <th>Unnamed: 0</th>\n",
       "      <th>longitud</th>\n",
       "      <th>latitud</th>\n",
       "      <th>precio</th>\n",
       "      <th>Condición del ítem</th>\n",
       "      <th>Línea telefónica</th>\n",
       "      <th>Aire acondicionado</th>\n",
       "      <th>Dormitorios</th>\n",
       "      <th>Superficie cubierta</th>\n",
       "      <th>Baños</th>\n",
       "      <th>Ambientes</th>\n",
       "      <th>Superficie total</th>\n",
       "      <th>Inmueble</th>\n",
       "    </tr>\n",
       "  </thead>\n",
       "  <tbody>\n",
       "    <tr>\n",
       "      <th>0</th>\n",
       "      <td>MLA1130578098</td>\n",
       "      <td>-58.457867</td>\n",
       "      <td>-34.61696</td>\n",
       "      <td>43500</td>\n",
       "      <td>Usado</td>\n",
       "      <td>No</td>\n",
       "      <td>No</td>\n",
       "      <td>1</td>\n",
       "      <td>39</td>\n",
       "      <td>1</td>\n",
       "      <td>2</td>\n",
       "      <td>42</td>\n",
       "      <td>Departamento</td>\n",
       "    </tr>\n",
       "    <tr>\n",
       "      <th>1</th>\n",
       "      <td>MLA1130495400</td>\n",
       "      <td>-58.461285</td>\n",
       "      <td>-34.54327</td>\n",
       "      <td>60000</td>\n",
       "      <td>Usado</td>\n",
       "      <td>NaN</td>\n",
       "      <td>Sí</td>\n",
       "      <td>1</td>\n",
       "      <td>32</td>\n",
       "      <td>1</td>\n",
       "      <td>2</td>\n",
       "      <td>34</td>\n",
       "      <td>Departamento</td>\n",
       "    </tr>\n",
       "  </tbody>\n",
       "</table>\n",
       "</div>"
      ],
      "text/plain": [
       "      Unnamed: 0   longitud   latitud  precio Condición del ítem  \\\n",
       "0  MLA1130578098 -58.457867 -34.61696   43500              Usado   \n",
       "1  MLA1130495400 -58.461285 -34.54327   60000              Usado   \n",
       "\n",
       "  Línea telefónica Aire acondicionado  Dormitorios  Superficie cubierta  \\\n",
       "0               No                 No            1                   39   \n",
       "1              NaN                 Sí            1                   32   \n",
       "\n",
       "   Baños  Ambientes  Superficie total      Inmueble  \n",
       "0      1          2                42  Departamento  \n",
       "1      1          2                34  Departamento  "
      ]
     },
     "execution_count": 35,
     "metadata": {},
     "output_type": "execute_result"
    }
   ],
   "source": [
    "df.head(2)"
   ]
  },
  {
   "cell_type": "markdown",
   "metadata": {},
   "source": [
    "Cambio el nombre de la primer columna porque se perdió en el camino"
   ]
  },
  {
   "cell_type": "code",
   "execution_count": 36,
   "metadata": {},
   "outputs": [
    {
     "data": {
      "text/html": [
       "<div>\n",
       "<style scoped>\n",
       "    .dataframe tbody tr th:only-of-type {\n",
       "        vertical-align: middle;\n",
       "    }\n",
       "\n",
       "    .dataframe tbody tr th {\n",
       "        vertical-align: top;\n",
       "    }\n",
       "\n",
       "    .dataframe thead th {\n",
       "        text-align: right;\n",
       "    }\n",
       "</style>\n",
       "<table border=\"1\" class=\"dataframe\">\n",
       "  <thead>\n",
       "    <tr style=\"text-align: right;\">\n",
       "      <th></th>\n",
       "      <th>id</th>\n",
       "      <th>longitud</th>\n",
       "      <th>latitud</th>\n",
       "      <th>precio</th>\n",
       "      <th>Condición del ítem</th>\n",
       "      <th>Línea telefónica</th>\n",
       "      <th>Aire acondicionado</th>\n",
       "      <th>Dormitorios</th>\n",
       "      <th>Superficie cubierta</th>\n",
       "      <th>Baños</th>\n",
       "      <th>Ambientes</th>\n",
       "      <th>Superficie total</th>\n",
       "      <th>Inmueble</th>\n",
       "    </tr>\n",
       "  </thead>\n",
       "  <tbody>\n",
       "    <tr>\n",
       "      <th>0</th>\n",
       "      <td>MLA1130578098</td>\n",
       "      <td>-58.457867</td>\n",
       "      <td>-34.61696</td>\n",
       "      <td>43500</td>\n",
       "      <td>Usado</td>\n",
       "      <td>No</td>\n",
       "      <td>No</td>\n",
       "      <td>1</td>\n",
       "      <td>39</td>\n",
       "      <td>1</td>\n",
       "      <td>2</td>\n",
       "      <td>42</td>\n",
       "      <td>Departamento</td>\n",
       "    </tr>\n",
       "    <tr>\n",
       "      <th>1</th>\n",
       "      <td>MLA1130495400</td>\n",
       "      <td>-58.461285</td>\n",
       "      <td>-34.54327</td>\n",
       "      <td>60000</td>\n",
       "      <td>Usado</td>\n",
       "      <td>NaN</td>\n",
       "      <td>Sí</td>\n",
       "      <td>1</td>\n",
       "      <td>32</td>\n",
       "      <td>1</td>\n",
       "      <td>2</td>\n",
       "      <td>34</td>\n",
       "      <td>Departamento</td>\n",
       "    </tr>\n",
       "  </tbody>\n",
       "</table>\n",
       "</div>"
      ],
      "text/plain": [
       "              id   longitud   latitud  precio Condición del ítem  \\\n",
       "0  MLA1130578098 -58.457867 -34.61696   43500              Usado   \n",
       "1  MLA1130495400 -58.461285 -34.54327   60000              Usado   \n",
       "\n",
       "  Línea telefónica Aire acondicionado  Dormitorios  Superficie cubierta  \\\n",
       "0               No                 No            1                   39   \n",
       "1              NaN                 Sí            1                   32   \n",
       "\n",
       "   Baños  Ambientes  Superficie total      Inmueble  \n",
       "0      1          2                42  Departamento  \n",
       "1      1          2                34  Departamento  "
      ]
     },
     "execution_count": 36,
     "metadata": {},
     "output_type": "execute_result"
    }
   ],
   "source": [
    "df.rename(columns = {'Unnamed: 0':'id'}, inplace = True)\n",
    "df.head(2)"
   ]
  },
  {
   "cell_type": "markdown",
   "metadata": {},
   "source": [
    "Busco valores faltantes de forma visual "
   ]
  },
  {
   "cell_type": "code",
   "execution_count": 37,
   "metadata": {},
   "outputs": [
    {
     "data": {
      "text/plain": [
       "<AxesSubplot:>"
      ]
     },
     "execution_count": 37,
     "metadata": {},
     "output_type": "execute_result"
    },
    {
     "data": {
      "image/png": "[encoded data removed]",
      "text/plain": [
       "<Figure size 1800x720 with 2 Axes>"
      ]
     },
     "metadata": {
      "needs_background": "light"
     },
     "output_type": "display_data"
    }
   ],
   "source": [
    "msno.matrix(df)"
   ]
  },
  {
   "cell_type": "code",
   "execution_count": 38,
   "metadata": {},
   "outputs": [
    {
     "data": {
      "text/html": [
       "<div>\n",
       "<style scoped>\n",
       "    .dataframe tbody tr th:only-of-type {\n",
       "        vertical-align: middle;\n",
       "    }\n",
       "\n",
       "    .dataframe tbody tr th {\n",
       "        vertical-align: top;\n",
       "    }\n",
       "\n",
       "    .dataframe thead th {\n",
       "        text-align: right;\n",
       "    }\n",
       "</style>\n",
       "<table border=\"1\" class=\"dataframe\">\n",
       "  <thead>\n",
       "    <tr style=\"text-align: right;\">\n",
       "      <th></th>\n",
       "      <th>longitud</th>\n",
       "      <th>latitud</th>\n",
       "      <th>precio</th>\n",
       "      <th>Dormitorios</th>\n",
       "      <th>Superficie cubierta</th>\n",
       "      <th>Baños</th>\n",
       "      <th>Ambientes</th>\n",
       "      <th>Superficie total</th>\n",
       "    </tr>\n",
       "  </thead>\n",
       "  <tbody>\n",
       "    <tr>\n",
       "      <th>count</th>\n",
       "      <td>36.000000</td>\n",
       "      <td>36.000000</td>\n",
       "      <td>36.000000</td>\n",
       "      <td>36.000000</td>\n",
       "      <td>36.000000</td>\n",
       "      <td>36.000000</td>\n",
       "      <td>36.000000</td>\n",
       "      <td>36.000000</td>\n",
       "    </tr>\n",
       "    <tr>\n",
       "      <th>mean</th>\n",
       "      <td>-58.421987</td>\n",
       "      <td>-34.603627</td>\n",
       "      <td>57102.777778</td>\n",
       "      <td>1.805556</td>\n",
       "      <td>88.055556</td>\n",
       "      <td>1.694444</td>\n",
       "      <td>2.805556</td>\n",
       "      <td>93.972222</td>\n",
       "    </tr>\n",
       "    <tr>\n",
       "      <th>std</th>\n",
       "      <td>0.039756</td>\n",
       "      <td>0.024961</td>\n",
       "      <td>44787.573124</td>\n",
       "      <td>1.116613</td>\n",
       "      <td>81.162604</td>\n",
       "      <td>1.141914</td>\n",
       "      <td>1.260826</td>\n",
       "      <td>83.227910</td>\n",
       "    </tr>\n",
       "    <tr>\n",
       "      <th>min</th>\n",
       "      <td>-58.499332</td>\n",
       "      <td>-34.686096</td>\n",
       "      <td>650.000000</td>\n",
       "      <td>0.000000</td>\n",
       "      <td>0.000000</td>\n",
       "      <td>1.000000</td>\n",
       "      <td>1.000000</td>\n",
       "      <td>0.000000</td>\n",
       "    </tr>\n",
       "    <tr>\n",
       "      <th>25%</th>\n",
       "      <td>-58.458342</td>\n",
       "      <td>-34.613491</td>\n",
       "      <td>30925.000000</td>\n",
       "      <td>1.000000</td>\n",
       "      <td>42.750000</td>\n",
       "      <td>1.000000</td>\n",
       "      <td>2.000000</td>\n",
       "      <td>45.000000</td>\n",
       "    </tr>\n",
       "    <tr>\n",
       "      <th>50%</th>\n",
       "      <td>-58.421868</td>\n",
       "      <td>-34.604237</td>\n",
       "      <td>47500.000000</td>\n",
       "      <td>2.000000</td>\n",
       "      <td>58.000000</td>\n",
       "      <td>1.000000</td>\n",
       "      <td>3.000000</td>\n",
       "      <td>65.000000</td>\n",
       "    </tr>\n",
       "    <tr>\n",
       "      <th>75%</th>\n",
       "      <td>-58.388032</td>\n",
       "      <td>-34.593005</td>\n",
       "      <td>80000.000000</td>\n",
       "      <td>2.000000</td>\n",
       "      <td>102.750000</td>\n",
       "      <td>2.000000</td>\n",
       "      <td>3.000000</td>\n",
       "      <td>109.500000</td>\n",
       "    </tr>\n",
       "    <tr>\n",
       "      <th>max</th>\n",
       "      <td>-58.360973</td>\n",
       "      <td>-34.543270</td>\n",
       "      <td>200000.000000</td>\n",
       "      <td>5.000000</td>\n",
       "      <td>450.000000</td>\n",
       "      <td>6.000000</td>\n",
       "      <td>7.000000</td>\n",
       "      <td>450.000000</td>\n",
       "    </tr>\n",
       "  </tbody>\n",
       "</table>\n",
       "</div>"
      ],
      "text/plain": [
       "        longitud    latitud         precio  Dormitorios  Superficie cubierta  \\\n",
       "count  36.000000  36.000000      36.000000    36.000000            36.000000   \n",
       "mean  -58.421987 -34.603627   57102.777778     1.805556            88.055556   \n",
       "std     0.039756   0.024961   44787.573124     1.116613            81.162604   \n",
       "min   -58.499332 -34.686096     650.000000     0.000000             0.000000   \n",
       "25%   -58.458342 -34.613491   30925.000000     1.000000            42.750000   \n",
       "50%   -58.421868 -34.604237   47500.000000     2.000000            58.000000   \n",
       "75%   -58.388032 -34.593005   80000.000000     2.000000           102.750000   \n",
       "max   -58.360973 -34.543270  200000.000000     5.000000           450.000000   \n",
       "\n",
       "           Baños  Ambientes  Superficie total  \n",
       "count  36.000000  36.000000         36.000000  \n",
       "mean    1.694444   2.805556         93.972222  \n",
       "std     1.141914   1.260826         83.227910  \n",
       "min     1.000000   1.000000          0.000000  \n",
       "25%     1.000000   2.000000         45.000000  \n",
       "50%     1.000000   3.000000         65.000000  \n",
       "75%     2.000000   3.000000        109.500000  \n",
       "max     6.000000   7.000000        450.000000  "
      ]
     },
     "execution_count": 38,
     "metadata": {},
     "output_type": "execute_result"
    }
   ],
   "source": [
    "df.describe()"
   ]
  },
  {
   "cell_type": "markdown",
   "metadata": {},
   "source": [
    "Hay unos valores anormalmente altos de latitud "
   ]
  },
  {
   "cell_type": "code",
   "execution_count": null,
   "metadata": {},
   "outputs": [],
   "source": []
  },
  {
   "cell_type": "code",
   "execution_count": 39,
   "metadata": {},
   "outputs": [
    {
     "data": {
      "text/plain": [
       "<seaborn.axisgrid.FacetGrid at 0x7fc88d3bd910>"
      ]
     },
     "execution_count": 39,
     "metadata": {},
     "output_type": "execute_result"
    },
    {
     "data": {
      "image/png": "[encoded data removed]",
      "text/plain": [
       "<Figure size 433.75x360 with 1 Axes>"
      ]
     },
     "metadata": {
      "needs_background": "light"
     },
     "output_type": "display_data"
    }
   ],
   "source": [
    "sns.displot(df, x=\"longitud\", y=\"latitud\",hue=\"precio\")"
   ]
  },
  {
   "cell_type": "code",
   "execution_count": null,
   "metadata": {},
   "outputs": [],
   "source": []
  }
 ],
 "metadata": {
  "interpreter": {
   "hash": "fad3b377b6310d95a533eb230dbfd5a9c1b4325e73705c87886c434920585c43"
  },
  "kernelspec": {
   "display_name": "Python 3.7.11 ('base')",
   "language": "python",
   "name": "python3"
  },
  "language_info": {
   "codemirror_mode": {
    "name": "ipython",
    "version": 3
   },
   "file_extension": ".py",
   "mimetype": "text/x-python",
   "name": "python",
   "nbconvert_exporter": "python",
   "pygments_lexer": "ipython3",
   "version": "3.7.11"
  },
  "orig_nbformat": 4
 },
 "nbformat": 4,
 "nbformat_minor": 2
}
