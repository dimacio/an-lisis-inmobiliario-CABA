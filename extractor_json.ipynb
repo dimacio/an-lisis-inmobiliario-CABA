{
 "cells": [
  {
   "cell_type": "code",
   "execution_count": 446,
   "metadata": {},
   "outputs": [],
   "source": [
    "import json \n",
    "import pandas as pd \n",
    "import numpy as np\n",
    "with open('response_demo.json') as f:\n",
    "    d = json.load(f)\n",
    "# ponemos los datos en un dataframe\n",
    "# uso un demo con solo dos inmuebles para que se mas facil de leer\n",
    "# limito a dos la profundidad de las busque del arbol y defino a resultados como mi nodo originario\n",
    "results = pd.json_normalize(d,record_path=[\"results\"],max_level=2)\n"
   ]
  },
  {
   "cell_type": "code",
   "execution_count": 447,
   "metadata": {},
   "outputs": [
    {
     "data": {
      "text/html": [
       "<div>\n",
       "<style scoped>\n",
       "    .dataframe tbody tr th:only-of-type {\n",
       "        vertical-align: middle;\n",
       "    }\n",
       "\n",
       "    .dataframe tbody tr th {\n",
       "        vertical-align: top;\n",
       "    }\n",
       "\n",
       "    .dataframe thead th {\n",
       "        text-align: right;\n",
       "    }\n",
       "</style>\n",
       "<table border=\"1\" class=\"dataframe\">\n",
       "  <thead>\n",
       "    <tr style=\"text-align: right;\">\n",
       "      <th></th>\n",
       "      <th>id</th>\n",
       "      <th>site_id</th>\n",
       "      <th>title</th>\n",
       "      <th>price</th>\n",
       "      <th>sale_price</th>\n",
       "      <th>currency_id</th>\n",
       "      <th>available_quantity</th>\n",
       "      <th>sold_quantity</th>\n",
       "      <th>buying_mode</th>\n",
       "      <th>listing_type_id</th>\n",
       "      <th>...</th>\n",
       "      <th>location.neighborhood.id</th>\n",
       "      <th>location.neighborhood.name</th>\n",
       "      <th>location.city.id</th>\n",
       "      <th>location.city.name</th>\n",
       "      <th>location.state.id</th>\n",
       "      <th>location.state.name</th>\n",
       "      <th>location.country.id</th>\n",
       "      <th>location.country.name</th>\n",
       "      <th>location.latitude</th>\n",
       "      <th>location.longitude</th>\n",
       "    </tr>\n",
       "  </thead>\n",
       "  <tbody>\n",
       "    <tr>\n",
       "      <th>0</th>\n",
       "      <td>MLA1131635093</td>\n",
       "      <td>MLA</td>\n",
       "      <td>Departamento - Palermo Viejo</td>\n",
       "      <td>65000</td>\n",
       "      <td>None</td>\n",
       "      <td>ARS</td>\n",
       "      <td>1</td>\n",
       "      <td>0</td>\n",
       "      <td>classified</td>\n",
       "      <td>gold_premium</td>\n",
       "      <td>...</td>\n",
       "      <td>TUxBQlBBTDE5ODla</td>\n",
       "      <td>Palermo Viejo</td>\n",
       "      <td>TUxBQ0NBUGZlZG1sYQ</td>\n",
       "      <td>Capital Federal</td>\n",
       "      <td>TUxBUENBUGw3M2E1</td>\n",
       "      <td>Capital Federal</td>\n",
       "      <td>AR</td>\n",
       "      <td>Argentina</td>\n",
       "      <td>-34.59470</td>\n",
       "      <td>-58.429170</td>\n",
       "    </tr>\n",
       "    <tr>\n",
       "      <th>1</th>\n",
       "      <td>MLA1131872927</td>\n",
       "      <td>MLA</td>\n",
       "      <td>Departamento - Caballito</td>\n",
       "      <td>43500</td>\n",
       "      <td>None</td>\n",
       "      <td>ARS</td>\n",
       "      <td>1</td>\n",
       "      <td>0</td>\n",
       "      <td>classified</td>\n",
       "      <td>gold_premium</td>\n",
       "      <td>...</td>\n",
       "      <td>TUxBQkNBQjM4MDda</td>\n",
       "      <td>Caballito</td>\n",
       "      <td>TUxBQ0NBUGZlZG1sYQ</td>\n",
       "      <td>Capital Federal</td>\n",
       "      <td>TUxBUENBUGw3M2E1</td>\n",
       "      <td>Capital Federal</td>\n",
       "      <td>AR</td>\n",
       "      <td>Argentina</td>\n",
       "      <td>-34.61696</td>\n",
       "      <td>-58.457867</td>\n",
       "    </tr>\n",
       "  </tbody>\n",
       "</table>\n",
       "<p>2 rows × 92 columns</p>\n",
       "</div>"
      ],
      "text/plain": [
       "              id site_id                         title  price sale_price  \\\n",
       "0  MLA1131635093     MLA  Departamento - Palermo Viejo  65000       None   \n",
       "1  MLA1131872927     MLA      Departamento - Caballito  43500       None   \n",
       "\n",
       "  currency_id  available_quantity  sold_quantity buying_mode listing_type_id  \\\n",
       "0         ARS                   1              0  classified    gold_premium   \n",
       "1         ARS                   1              0  classified    gold_premium   \n",
       "\n",
       "   ... location.neighborhood.id location.neighborhood.name  \\\n",
       "0  ...         TUxBQlBBTDE5ODla              Palermo Viejo   \n",
       "1  ...         TUxBQkNBQjM4MDda                  Caballito   \n",
       "\n",
       "     location.city.id location.city.name location.state.id  \\\n",
       "0  TUxBQ0NBUGZlZG1sYQ    Capital Federal  TUxBUENBUGw3M2E1   \n",
       "1  TUxBQ0NBUGZlZG1sYQ    Capital Federal  TUxBUENBUGw3M2E1   \n",
       "\n",
       "   location.state.name location.country.id location.country.name  \\\n",
       "0      Capital Federal                  AR             Argentina   \n",
       "1      Capital Federal                  AR             Argentina   \n",
       "\n",
       "  location.latitude location.longitude  \n",
       "0         -34.59470         -58.429170  \n",
       "1         -34.61696         -58.457867  \n",
       "\n",
       "[2 rows x 92 columns]"
      ]
     },
     "execution_count": 447,
     "metadata": {},
     "output_type": "execute_result"
    }
   ],
   "source": [
    "results"
   ]
  },
  {
   "cell_type": "code",
   "execution_count": 274,
   "metadata": {},
   "outputs": [
    {
     "data": {
      "text/plain": [
       "[{'attribute_group_id': '',\n",
       "  'id': 'ITEM_CONDITION',\n",
       "  'name': 'Condición del ítem',\n",
       "  'value_struct': None,\n",
       "  'values': [{'name': 'Usado', 'struct': None, 'source': 1, 'id': '2230581'}],\n",
       "  'value_id': '2230581',\n",
       "  'value_name': 'Usado',\n",
       "  'attribute_group_name': '',\n",
       "  'source': 1},\n",
       " {'id': 'HAS_TELEPHONE_LINE',\n",
       "  'name': 'Línea telefónica',\n",
       "  'value_name': 'Sí',\n",
       "  'values': [{'source': 4709975701260268,\n",
       "    'id': '242085',\n",
       "    'name': 'Sí',\n",
       "    'struct': None}],\n",
       "  'attribute_group_id': 'CARACTERISTICAS',\n",
       "  'value_id': '242085',\n",
       "  'value_struct': None,\n",
       "  'attribute_group_name': 'Características adicionales',\n",
       "  'source': 4709975701260268},\n",
       " {'name': 'Aire acondicionado',\n",
       "  'value_struct': None,\n",
       "  'attribute_group_id': 'COMOYAMEN',\n",
       "  'source': 4709975701260268,\n",
       "  'id': 'HAS_AIR_CONDITIONING',\n",
       "  'value_id': '242084',\n",
       "  'value_name': 'No',\n",
       "  'values': [{'source': 4709975701260268,\n",
       "    'id': '242084',\n",
       "    'name': 'No',\n",
       "    'struct': None}],\n",
       "  'attribute_group_name': 'Comodidades y amenities'},\n",
       " {'values': [{'name': '2',\n",
       "    'struct': None,\n",
       "    'source': 4709975701260268,\n",
       "    'id': None}],\n",
       "  'attribute_group_id': 'FIND',\n",
       "  'attribute_group_name': 'Ficha técnica',\n",
       "  'source': 4709975701260268,\n",
       "  'name': 'Dormitorios',\n",
       "  'value_id': None,\n",
       "  'value_name': '2',\n",
       "  'value_struct': None,\n",
       "  'id': 'BEDROOMS'},\n",
       " {'value_struct': {'number': 48, 'unit': 'm²'},\n",
       "  'values': [{'id': None,\n",
       "    'name': '48 m²',\n",
       "    'struct': {'number': 48, 'unit': 'm²'},\n",
       "    'source': 4709975701260268}],\n",
       "  'attribute_group_id': 'FIND',\n",
       "  'attribute_group_name': 'Ficha técnica',\n",
       "  'source': 4709975701260268,\n",
       "  'id': 'COVERED_AREA',\n",
       "  'value_id': None,\n",
       "  'value_name': '48 m²',\n",
       "  'name': 'Superficie cubierta'},\n",
       " {'values': [{'id': None,\n",
       "    'name': '1',\n",
       "    'struct': None,\n",
       "    'source': 4709975701260268}],\n",
       "  'attribute_group_name': 'Ficha técnica',\n",
       "  'source': 4709975701260268,\n",
       "  'id': 'FULL_BATHROOMS',\n",
       "  'name': 'Baños',\n",
       "  'value_struct': None,\n",
       "  'value_id': None,\n",
       "  'value_name': '1',\n",
       "  'attribute_group_id': 'FIND'},\n",
       " {'attribute_group_id': 'FIND',\n",
       "  'attribute_group_name': 'Ficha técnica',\n",
       "  'name': 'Ambientes',\n",
       "  'value_id': None,\n",
       "  'value_name': '3',\n",
       "  'value_struct': None,\n",
       "  'values': [{'name': '3',\n",
       "    'struct': None,\n",
       "    'source': 4709975701260268,\n",
       "    'id': None}],\n",
       "  'id': 'ROOMS',\n",
       "  'source': 4709975701260268},\n",
       " {'id': 'TOTAL_AREA',\n",
       "  'name': 'Superficie total',\n",
       "  'value_id': None,\n",
       "  'values': [{'id': None,\n",
       "    'name': '51 m²',\n",
       "    'struct': {'unit': 'm²', 'number': 51},\n",
       "    'source': 4709975701260268}],\n",
       "  'attribute_group_id': 'FIND',\n",
       "  'attribute_group_name': 'Ficha técnica',\n",
       "  'value_name': '51 m²',\n",
       "  'value_struct': {'number': 51, 'unit': 'm²'},\n",
       "  'source': 4709975701260268},\n",
       " {'name': 'Operación',\n",
       "  'value_name': 'Alquiler',\n",
       "  'values': [{'struct': None,\n",
       "    'source': 1,\n",
       "    'id': '242073',\n",
       "    'name': 'Alquiler'}],\n",
       "  'attribute_group_id': 'MAIN',\n",
       "  'attribute_group_name': 'Principales',\n",
       "  'id': 'OPERATION',\n",
       "  'value_id': '242073',\n",
       "  'value_struct': None,\n",
       "  'source': 1},\n",
       " {'id': 'PROPERTY_TYPE',\n",
       "  'value_id': '242062',\n",
       "  'value_struct': None,\n",
       "  'source': 1,\n",
       "  'name': 'Inmueble',\n",
       "  'value_name': 'Departamento',\n",
       "  'values': [{'id': '242062',\n",
       "    'name': 'Departamento',\n",
       "    'struct': None,\n",
       "    'source': 1}],\n",
       "  'attribute_group_id': 'MAIN',\n",
       "  'attribute_group_name': 'Principales'}]"
      ]
     },
     "execution_count": 274,
     "metadata": {},
     "output_type": "execute_result"
    }
   ],
   "source": [
    "atributed_nest[0] #es una lista por eso no se puede aplanar automaticamente"
   ]
  },
  {
   "cell_type": "code",
   "execution_count": 459,
   "metadata": {},
   "outputs": [
    {
     "data": {
      "text/html": [
       "<div>\n",
       "<style scoped>\n",
       "    .dataframe tbody tr th:only-of-type {\n",
       "        vertical-align: middle;\n",
       "    }\n",
       "\n",
       "    .dataframe tbody tr th {\n",
       "        vertical-align: top;\n",
       "    }\n",
       "\n",
       "    .dataframe thead th {\n",
       "        text-align: right;\n",
       "    }\n",
       "</style>\n",
       "<table border=\"1\" class=\"dataframe\">\n",
       "  <thead>\n",
       "    <tr style=\"text-align: right;\">\n",
       "      <th></th>\n",
       "      <th>Condición del ítem</th>\n",
       "      <th>Línea telefónica</th>\n",
       "      <th>Aire acondicionado</th>\n",
       "      <th>Dormitorios</th>\n",
       "      <th>Superficie cubierta</th>\n",
       "      <th>Baños</th>\n",
       "      <th>Ambientes</th>\n",
       "      <th>Superficie total</th>\n",
       "      <th>Operación</th>\n",
       "      <th>Inmueble</th>\n",
       "    </tr>\n",
       "  </thead>\n",
       "  <tbody>\n",
       "  </tbody>\n",
       "</table>\n",
       "</div>"
      ],
      "text/plain": [
       "Empty DataFrame\n",
       "Columns: [Condición del ítem, Línea telefónica, Aire acondicionado, Dormitorios, Superficie cubierta, Baños, Ambientes, Superficie total, Operación, Inmueble]\n",
       "Index: []"
      ]
     },
     "execution_count": 459,
     "metadata": {},
     "output_type": "execute_result"
    }
   ],
   "source": [
    "columns_name = []\n",
    "for i in range(10):\n",
    "    columns_name.append(atributed_nest[0][i][\"name\"])\n",
    "\n",
    "atributed_table0 = pd.DataFrame(columns = columns_name)\n",
    "atributed_table0\n"
   ]
  },
  {
   "cell_type": "code",
   "execution_count": 463,
   "metadata": {},
   "outputs": [
    {
     "data": {
      "text/html": [
       "<div>\n",
       "<style scoped>\n",
       "    .dataframe tbody tr th:only-of-type {\n",
       "        vertical-align: middle;\n",
       "    }\n",
       "\n",
       "    .dataframe tbody tr th {\n",
       "        vertical-align: top;\n",
       "    }\n",
       "\n",
       "    .dataframe thead th {\n",
       "        text-align: right;\n",
       "    }\n",
       "</style>\n",
       "<table border=\"1\" class=\"dataframe\">\n",
       "  <thead>\n",
       "    <tr style=\"text-align: right;\">\n",
       "      <th></th>\n",
       "      <th>Condición del ítem</th>\n",
       "      <th>Línea telefónica</th>\n",
       "      <th>Aire acondicionado</th>\n",
       "      <th>Dormitorios</th>\n",
       "      <th>Superficie cubierta</th>\n",
       "      <th>Baños</th>\n",
       "      <th>Ambientes</th>\n",
       "      <th>Superficie total</th>\n",
       "      <th>Operación</th>\n",
       "      <th>Inmueble</th>\n",
       "    </tr>\n",
       "  </thead>\n",
       "  <tbody>\n",
       "  </tbody>\n",
       "</table>\n",
       "</div>"
      ],
      "text/plain": [
       "Empty DataFrame\n",
       "Columns: [Condición del ítem, Línea telefónica, Aire acondicionado, Dormitorios, Superficie cubierta, Baños, Ambientes, Superficie total, Operación, Inmueble]\n",
       "Index: []"
      ]
     },
     "execution_count": 463,
     "metadata": {},
     "output_type": "execute_result"
    }
   ],
   "source": [
    "columns_value = []\n",
    "for i in range(10):\n",
    "    columns_value.append(atributed_nest[0][i][\"value_name\"])\n",
    "\n",
    "serie_toAdd = pd.Series(columns_value, index = atributed_table0.columns)\n",
    "\n",
    "atributed_table0.append(serie_toAdd,  ignore_index=True)\n",
    "\n",
    "columns_value1 = []\n",
    "for i in range(10):\n",
    "    columns_value1.append(atributed_nest[1][i][\"value_name\"])\n",
    "\n",
    "atributed_table1 = pd.DataFrame(columns = columns_name)\n",
    "serie_toAdd = pd.Series(columns_value1, index = atributed_table1.columns)\n",
    "atributed_table0.append(serie_toAdd,  ignore_index=True)\n",
    "\n",
    "pd.concat([atributed_table0,atributed_table1])"
   ]
  },
  {
   "cell_type": "code",
   "execution_count": 453,
   "metadata": {},
   "outputs": [
    {
     "name": "stdout",
     "output_type": "stream",
     "text": [
      "['Usado']\n",
      "['Usado', 'Sí']\n",
      "['Usado', 'Sí', 'No']\n",
      "['Usado', 'Sí', 'No', '2']\n",
      "['Usado', 'Sí', 'No', '2', '48 m²']\n",
      "['Usado', 'Sí', 'No', '2', '48 m²', '1']\n",
      "['Usado', 'Sí', 'No', '2', '48 m²', '1', '3']\n",
      "['Usado', 'Sí', 'No', '2', '48 m²', '1', '3', '51 m²']\n",
      "['Usado', 'Sí', 'No', '2', '48 m²', '1', '3', '51 m²', 'Alquiler']\n",
      "['Usado', 'Sí', 'No', '2', '48 m²', '1', '3', '51 m²', 'Alquiler', 'Departamento']\n",
      "Condición del ítem            Usado\n",
      "Línea telefónica                 Sí\n",
      "Aire acondicionado               No\n",
      "Dormitorios                       2\n",
      "Superficie cubierta           48 m²\n",
      "Baños                             1\n",
      "Ambientes                         3\n",
      "Superficie total              51 m²\n",
      "Operación                  Alquiler\n",
      "Inmueble               Departamento\n",
      "dtype: object\n",
      "Empty DataFrame\n",
      "Columns: [Condición del ítem, Línea telefónica, Aire acondicionado, Dormitorios, Superficie cubierta, Baños, Ambientes, Superficie total, Operación, Inmueble]\n",
      "Index: []\n",
      "['Usado']\n",
      "['Usado', 'No']\n",
      "['Usado', 'No', 'No']\n",
      "['Usado', 'No', 'No', '1']\n",
      "['Usado', 'No', 'No', '1', '39 m²']\n",
      "['Usado', 'No', 'No', '1', '39 m²', '1']\n",
      "['Usado', 'No', 'No', '1', '39 m²', '1', '2']\n",
      "['Usado', 'No', 'No', '1', '39 m²', '1', '2', '42 m²']\n",
      "['Usado', 'No', 'No', '1', '39 m²', '1', '2', '42 m²', 'Alquiler']\n",
      "['Usado', 'No', 'No', '1', '39 m²', '1', '2', '42 m²', 'Alquiler', 'Departamento']\n",
      "Condición del ítem            Usado\n",
      "Línea telefónica                 No\n",
      "Aire acondicionado               No\n",
      "Dormitorios                       1\n",
      "Superficie cubierta           39 m²\n",
      "Baños                             1\n",
      "Ambientes                         2\n",
      "Superficie total              42 m²\n",
      "Operación                  Alquiler\n",
      "Inmueble               Departamento\n",
      "dtype: object\n",
      "Empty DataFrame\n",
      "Columns: [Condición del ítem, Línea telefónica, Aire acondicionado, Dormitorios, Superficie cubierta, Baños, Ambientes, Superficie total, Operación, Inmueble]\n",
      "Index: []\n"
     ]
    }
   ],
   "source": [
    "for i in range(len(results)):\n",
    "    columns_value = []\n",
    "    for j in range(10):\n",
    "        columns_value.append(atributed_nest[i][j][\"value_name\"])\n",
    "        print(columns_value)\n",
    "    serie_toAdd = pd.Series(columns_value, index = atributed_table.columns)\n",
    "    print(serie_toAdd)\n",
    "    atributed_table.append(serie_toAdd, ignore_index=True)\n",
    "    print(atributed_table)\n"
   ]
  },
  {
   "cell_type": "code",
   "execution_count": 454,
   "metadata": {},
   "outputs": [
    {
     "ename": "SyntaxError",
     "evalue": "invalid syntax (1033025670.py, line 3)",
     "output_type": "error",
     "traceback": [
      "\u001b[0;36m  File \u001b[0;32m\"/tmp/ipykernel_3444/1033025670.py\"\u001b[0;36m, line \u001b[0;32m3\u001b[0m\n\u001b[0;31m    atributed_nest[i][j][\"value_name\"])\u001b[0m\n\u001b[0m                                      ^\u001b[0m\n\u001b[0;31mSyntaxError\u001b[0m\u001b[0;31m:\u001b[0m invalid syntax\n"
     ]
    }
   ],
   "source": [
    "for j in range(10):\n",
    "    for i in range(len(results)):\n",
    "        atributed_nest[i][j][\"value_name\"])\n",
    "                #sale una columna atras de la otra,\n",
    "                "
   ]
  },
  {
   "cell_type": "markdown",
   "metadata": {},
   "source": [
    " la idea seria que haya una columna con el nombre de cada atribudo y que en la fila del item este el valor,\n",
    " por ejemplo en la en en la columna telefono diria si\n"
   ]
  },
  {
   "cell_type": "code",
   "execution_count": 465,
   "metadata": {},
   "outputs": [
    {
     "data": {
      "text/plain": [
       "[{'id': '1',\n",
       "  'type': 'standard',\n",
       "  'amount': 65000,\n",
       "  'regular_amount': None,\n",
       "  'currency_id': 'ARS',\n",
       "  'last_updated': '2022-04-11T18:23:37Z',\n",
       "  'conditions': {'context_restrictions': [],\n",
       "   'start_time': None,\n",
       "   'end_time': None,\n",
       "   'eligible': True},\n",
       "  'exchange_rate_context': 'DEFAULT',\n",
       "  'metadata': {}}]"
      ]
     },
     "execution_count": 465,
     "metadata": {},
     "output_type": "execute_result"
    }
   ],
   "source": [
    "prices_nest[0]#es una lista por eso no se sigue aplanando, algo parecido a los atributos"
   ]
  },
  {
   "cell_type": "code",
   "execution_count": 434,
   "metadata": {},
   "outputs": [
    {
     "data": {
      "text/plain": [
       "'2022-04-11T18:23:37Z'"
      ]
     },
     "execution_count": 434,
     "metadata": {},
     "output_type": "execute_result"
    }
   ],
   "source": [
    "last_update = prices_nest[0]\n",
    "#adentro de la lista hay un diccionario\n",
    "last_update[0][\"last_updated\"]"
   ]
  },
  {
   "cell_type": "code",
   "execution_count": 448,
   "metadata": {},
   "outputs": [],
   "source": [
    "selection = results[[\"id\",\"price\",\"currency_id\",\"stop_time\",\"condition\",\"official_store_id\",\"seller.id\",\"location.latitude\",\"location.longitude\",\"location.address_line\",\"location.neighborhood.name\",\"location.country.id\"]]"
   ]
  },
  {
   "cell_type": "code",
   "execution_count": 451,
   "metadata": {},
   "outputs": [
    {
     "data": {
      "text/plain": [
       "12"
      ]
     },
     "execution_count": 451,
     "metadata": {},
     "output_type": "execute_result"
    }
   ],
   "source": [
    "len(selection.columns)"
   ]
  },
  {
   "cell_type": "code",
   "execution_count": 464,
   "metadata": {},
   "outputs": [
    {
     "data": {
      "text/html": [
       "<div>\n",
       "<style scoped>\n",
       "    .dataframe tbody tr th:only-of-type {\n",
       "        vertical-align: middle;\n",
       "    }\n",
       "\n",
       "    .dataframe tbody tr th {\n",
       "        vertical-align: top;\n",
       "    }\n",
       "\n",
       "    .dataframe thead th {\n",
       "        text-align: right;\n",
       "    }\n",
       "</style>\n",
       "<table border=\"1\" class=\"dataframe\">\n",
       "  <thead>\n",
       "    <tr style=\"text-align: right;\">\n",
       "      <th></th>\n",
       "      <th>id</th>\n",
       "      <th>price</th>\n",
       "      <th>currency_id</th>\n",
       "      <th>stop_time</th>\n",
       "      <th>condition</th>\n",
       "      <th>official_store_id</th>\n",
       "      <th>seller.id</th>\n",
       "      <th>location.latitude</th>\n",
       "      <th>location.longitude</th>\n",
       "      <th>location.address_line</th>\n",
       "      <th>location.neighborhood.name</th>\n",
       "      <th>location.country.id</th>\n",
       "    </tr>\n",
       "  </thead>\n",
       "  <tbody>\n",
       "    <tr>\n",
       "      <th>0</th>\n",
       "      <td>MLA1131635093</td>\n",
       "      <td>65000</td>\n",
       "      <td>ARS</td>\n",
       "      <td>2022-06-10T04:00:00.000Z</td>\n",
       "      <td>used</td>\n",
       "      <td>NaN</td>\n",
       "      <td>138924430</td>\n",
       "      <td>-34.59470</td>\n",
       "      <td>-58.429170</td>\n",
       "      <td>Araoz al 1100</td>\n",
       "      <td>Palermo Viejo</td>\n",
       "      <td>AR</td>\n",
       "    </tr>\n",
       "    <tr>\n",
       "      <th>1</th>\n",
       "      <td>MLA1131872927</td>\n",
       "      <td>43500</td>\n",
       "      <td>ARS</td>\n",
       "      <td>2022-06-11T04:00:00.000Z</td>\n",
       "      <td>used</td>\n",
       "      <td>2695.0</td>\n",
       "      <td>155651025</td>\n",
       "      <td>-34.61696</td>\n",
       "      <td>-58.457867</td>\n",
       "      <td>Donato Alvarez al 700</td>\n",
       "      <td>Caballito</td>\n",
       "      <td>AR</td>\n",
       "    </tr>\n",
       "  </tbody>\n",
       "</table>\n",
       "</div>"
      ],
      "text/plain": [
       "              id  price currency_id                 stop_time condition  \\\n",
       "0  MLA1131635093  65000         ARS  2022-06-10T04:00:00.000Z      used   \n",
       "1  MLA1131872927  43500         ARS  2022-06-11T04:00:00.000Z      used   \n",
       "\n",
       "   official_store_id  seller.id  location.latitude  location.longitude  \\\n",
       "0                NaN  138924430          -34.59470          -58.429170   \n",
       "1             2695.0  155651025          -34.61696          -58.457867   \n",
       "\n",
       "   location.address_line location.neighborhood.name location.country.id  \n",
       "0          Araoz al 1100              Palermo Viejo                  AR  \n",
       "1  Donato Alvarez al 700                  Caballito                  AR  "
      ]
     },
     "execution_count": 464,
     "metadata": {},
     "output_type": "execute_result"
    }
   ],
   "source": [
    "selection"
   ]
  },
  {
   "cell_type": "code",
   "execution_count": null,
   "metadata": {},
   "outputs": [],
   "source": []
  }
 ],
 "metadata": {
  "interpreter": {
   "hash": "7ee1988ddd73a5cd8a686de1df1f51de63b64296d5678ba0ea7e2504b6c24566"
  },
  "kernelspec": {
   "display_name": "Python 3.7.11 ('ML': venv)",
   "language": "python",
   "name": "python3"
  },
  "language_info": {
   "codemirror_mode": {
    "name": "ipython",
    "version": 3
   },
   "file_extension": ".py",
   "mimetype": "text/x-python",
   "name": "python",
   "nbconvert_exporter": "python",
   "pygments_lexer": "ipython3",
   "version": "3.7.11"
  },
  "orig_nbformat": 4
 },
 "nbformat": 4,
 "nbformat_minor": 2
}
